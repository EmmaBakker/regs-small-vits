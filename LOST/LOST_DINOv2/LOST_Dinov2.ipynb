{
  "nbformat": 4,
  "nbformat_minor": 0,
  "metadata": {
    "colab": {
      "provenance": [],
      "gpuType": "T4"
    },
    "kernelspec": {
      "name": "python3",
      "display_name": "Python 3"
    },
    "language_info": {
      "name": "python"
    },
    "accelerator": "GPU"
  },
  "cells": [
    {
      "cell_type": "code",
      "execution_count": 1,
      "metadata": {
        "colab": {
          "base_uri": "https://localhost:8080/"
        },
        "id": "pv4SFp3XS0g9",
        "outputId": "4d015f94-a839-411c-c634-092f601c6f41"
      },
      "outputs": [
        {
          "output_type": "stream",
          "name": "stdout",
          "text": [
            "Mounted at /content/drive\n"
          ]
        }
      ],
      "source": [
        "from google.colab import drive\n",
        "drive.mount(\"/content/drive\")"
      ]
    },
    {
      "cell_type": "code",
      "source": [
        "%cd /content/drive/My Drive/Colab Notebooks/FACT/LOST_DINOv2"
      ],
      "metadata": {
        "colab": {
          "base_uri": "https://localhost:8080/"
        },
        "id": "9KeM5VlTTLZv",
        "outputId": "95f88344-abf1-4dd8-bb01-256321fb5f38"
      },
      "execution_count": 2,
      "outputs": [
        {
          "output_type": "stream",
          "name": "stdout",
          "text": [
            "/content/drive/My Drive/Colab Notebooks/FACT/LOST_DINOv2\n"
          ]
        }
      ]
    },
    {
      "cell_type": "code",
      "source": [
        "import sys\n",
        "sys.path.append('/content/drive/My Drive/Colab Notebooks/FACT/LOST_DINOv2')"
      ],
      "metadata": {
        "id": "pX24ZCpoTLcJ"
      },
      "execution_count": 11,
      "outputs": []
    },
    {
      "cell_type": "code",
      "source": [
        "!pip install -r '/content/drive/My Drive/Colab Notebooks/FACT/LOST_DINOv2/requirements.txt'"
      ],
      "metadata": {
        "colab": {
          "base_uri": "https://localhost:8080/"
        },
        "collapsed": true,
        "id": "8ZeRAqqVTLd-",
        "outputId": "addad838-15fc-47b6-d376-ef9bd4ae4130"
      },
      "execution_count": 12,
      "outputs": [
        {
          "output_type": "stream",
          "name": "stdout",
          "text": [
            "Requirement already satisfied: scipy>=1.4.1 in /usr/local/lib/python3.11/dist-packages (from -r /content/drive/My Drive/Colab Notebooks/FACT/LOST_DINOv2/requirements.txt (line 1)) (1.13.1)\n",
            "Requirement already satisfied: matplotlib>=3.2.2 in /usr/local/lib/python3.11/dist-packages (from -r /content/drive/My Drive/Colab Notebooks/FACT/LOST_DINOv2/requirements.txt (line 2)) (3.10.0)\n",
            "Requirement already satisfied: opencv-python>=4.1.2 in /usr/local/lib/python3.11/dist-packages (from -r /content/drive/My Drive/Colab Notebooks/FACT/LOST_DINOv2/requirements.txt (line 3)) (4.10.0.84)\n",
            "Requirement already satisfied: tqdm>=4.41.0 in /usr/local/lib/python3.11/dist-packages (from -r /content/drive/My Drive/Colab Notebooks/FACT/LOST_DINOv2/requirements.txt (line 4)) (4.67.1)\n",
            "Requirement already satisfied: scikit-image in /usr/local/lib/python3.11/dist-packages (from -r /content/drive/My Drive/Colab Notebooks/FACT/LOST_DINOv2/requirements.txt (line 5)) (0.25.0)\n",
            "Requirement already satisfied: catalyst in /usr/local/lib/python3.11/dist-packages (from -r /content/drive/My Drive/Colab Notebooks/FACT/LOST_DINOv2/requirements.txt (line 6)) (21.5)\n",
            "Requirement already satisfied: numpy<2.3,>=1.22.4 in /usr/local/lib/python3.11/dist-packages (from scipy>=1.4.1->-r /content/drive/My Drive/Colab Notebooks/FACT/LOST_DINOv2/requirements.txt (line 1)) (1.26.4)\n",
            "Requirement already satisfied: contourpy>=1.0.1 in /usr/local/lib/python3.11/dist-packages (from matplotlib>=3.2.2->-r /content/drive/My Drive/Colab Notebooks/FACT/LOST_DINOv2/requirements.txt (line 2)) (1.3.1)\n",
            "Requirement already satisfied: cycler>=0.10 in /usr/local/lib/python3.11/dist-packages (from matplotlib>=3.2.2->-r /content/drive/My Drive/Colab Notebooks/FACT/LOST_DINOv2/requirements.txt (line 2)) (0.12.1)\n",
            "Requirement already satisfied: fonttools>=4.22.0 in /usr/local/lib/python3.11/dist-packages (from matplotlib>=3.2.2->-r /content/drive/My Drive/Colab Notebooks/FACT/LOST_DINOv2/requirements.txt (line 2)) (4.55.5)\n",
            "Requirement already satisfied: kiwisolver>=1.3.1 in /usr/local/lib/python3.11/dist-packages (from matplotlib>=3.2.2->-r /content/drive/My Drive/Colab Notebooks/FACT/LOST_DINOv2/requirements.txt (line 2)) (1.4.8)\n",
            "Requirement already satisfied: packaging>=20.0 in /usr/local/lib/python3.11/dist-packages (from matplotlib>=3.2.2->-r /content/drive/My Drive/Colab Notebooks/FACT/LOST_DINOv2/requirements.txt (line 2)) (24.2)\n",
            "Requirement already satisfied: pillow>=8 in /usr/local/lib/python3.11/dist-packages (from matplotlib>=3.2.2->-r /content/drive/My Drive/Colab Notebooks/FACT/LOST_DINOv2/requirements.txt (line 2)) (11.1.0)\n",
            "Requirement already satisfied: pyparsing>=2.3.1 in /usr/local/lib/python3.11/dist-packages (from matplotlib>=3.2.2->-r /content/drive/My Drive/Colab Notebooks/FACT/LOST_DINOv2/requirements.txt (line 2)) (3.2.1)\n",
            "Requirement already satisfied: python-dateutil>=2.7 in /usr/local/lib/python3.11/dist-packages (from matplotlib>=3.2.2->-r /content/drive/My Drive/Colab Notebooks/FACT/LOST_DINOv2/requirements.txt (line 2)) (2.8.2)\n",
            "Requirement already satisfied: networkx>=3.0 in /usr/local/lib/python3.11/dist-packages (from scikit-image->-r /content/drive/My Drive/Colab Notebooks/FACT/LOST_DINOv2/requirements.txt (line 5)) (3.4.2)\n",
            "Requirement already satisfied: imageio!=2.35.0,>=2.33 in /usr/local/lib/python3.11/dist-packages (from scikit-image->-r /content/drive/My Drive/Colab Notebooks/FACT/LOST_DINOv2/requirements.txt (line 5)) (2.36.1)\n",
            "Requirement already satisfied: tifffile>=2022.8.12 in /usr/local/lib/python3.11/dist-packages (from scikit-image->-r /content/drive/My Drive/Colab Notebooks/FACT/LOST_DINOv2/requirements.txt (line 5)) (2025.1.10)\n",
            "Requirement already satisfied: lazy-loader>=0.4 in /usr/local/lib/python3.11/dist-packages (from scikit-image->-r /content/drive/My Drive/Colab Notebooks/FACT/LOST_DINOv2/requirements.txt (line 5)) (0.4)\n",
            "Requirement already satisfied: torch>=1.3.0 in /usr/local/lib/python3.11/dist-packages (from catalyst->-r /content/drive/My Drive/Colab Notebooks/FACT/LOST_DINOv2/requirements.txt (line 6)) (2.5.1+cu121)\n",
            "Requirement already satisfied: PyYAML>=5.1 in /usr/local/lib/python3.11/dist-packages (from catalyst->-r /content/drive/My Drive/Colab Notebooks/FACT/LOST_DINOv2/requirements.txt (line 6)) (6.0.2)\n",
            "Requirement already satisfied: tensorboardX>=2.1.0 in /usr/local/lib/python3.11/dist-packages (from catalyst->-r /content/drive/My Drive/Colab Notebooks/FACT/LOST_DINOv2/requirements.txt (line 6)) (2.6.2.2)\n",
            "Requirement already satisfied: six>=1.5 in /usr/local/lib/python3.11/dist-packages (from python-dateutil>=2.7->matplotlib>=3.2.2->-r /content/drive/My Drive/Colab Notebooks/FACT/LOST_DINOv2/requirements.txt (line 2)) (1.17.0)\n",
            "Requirement already satisfied: protobuf>=3.20 in /usr/local/lib/python3.11/dist-packages (from tensorboardX>=2.1.0->catalyst->-r /content/drive/My Drive/Colab Notebooks/FACT/LOST_DINOv2/requirements.txt (line 6)) (4.25.5)\n",
            "Requirement already satisfied: filelock in /usr/local/lib/python3.11/dist-packages (from torch>=1.3.0->catalyst->-r /content/drive/My Drive/Colab Notebooks/FACT/LOST_DINOv2/requirements.txt (line 6)) (3.17.0)\n",
            "Requirement already satisfied: typing-extensions>=4.8.0 in /usr/local/lib/python3.11/dist-packages (from torch>=1.3.0->catalyst->-r /content/drive/My Drive/Colab Notebooks/FACT/LOST_DINOv2/requirements.txt (line 6)) (4.12.2)\n",
            "Requirement already satisfied: jinja2 in /usr/local/lib/python3.11/dist-packages (from torch>=1.3.0->catalyst->-r /content/drive/My Drive/Colab Notebooks/FACT/LOST_DINOv2/requirements.txt (line 6)) (3.1.5)\n",
            "Requirement already satisfied: fsspec in /usr/local/lib/python3.11/dist-packages (from torch>=1.3.0->catalyst->-r /content/drive/My Drive/Colab Notebooks/FACT/LOST_DINOv2/requirements.txt (line 6)) (2024.10.0)\n",
            "Requirement already satisfied: nvidia-cuda-nvrtc-cu12==12.1.105 in /usr/local/lib/python3.11/dist-packages (from torch>=1.3.0->catalyst->-r /content/drive/My Drive/Colab Notebooks/FACT/LOST_DINOv2/requirements.txt (line 6)) (12.1.105)\n",
            "Requirement already satisfied: nvidia-cuda-runtime-cu12==12.1.105 in /usr/local/lib/python3.11/dist-packages (from torch>=1.3.0->catalyst->-r /content/drive/My Drive/Colab Notebooks/FACT/LOST_DINOv2/requirements.txt (line 6)) (12.1.105)\n",
            "Requirement already satisfied: nvidia-cuda-cupti-cu12==12.1.105 in /usr/local/lib/python3.11/dist-packages (from torch>=1.3.0->catalyst->-r /content/drive/My Drive/Colab Notebooks/FACT/LOST_DINOv2/requirements.txt (line 6)) (12.1.105)\n",
            "Requirement already satisfied: nvidia-cudnn-cu12==9.1.0.70 in /usr/local/lib/python3.11/dist-packages (from torch>=1.3.0->catalyst->-r /content/drive/My Drive/Colab Notebooks/FACT/LOST_DINOv2/requirements.txt (line 6)) (9.1.0.70)\n",
            "Requirement already satisfied: nvidia-cublas-cu12==12.1.3.1 in /usr/local/lib/python3.11/dist-packages (from torch>=1.3.0->catalyst->-r /content/drive/My Drive/Colab Notebooks/FACT/LOST_DINOv2/requirements.txt (line 6)) (12.1.3.1)\n",
            "Requirement already satisfied: nvidia-cufft-cu12==11.0.2.54 in /usr/local/lib/python3.11/dist-packages (from torch>=1.3.0->catalyst->-r /content/drive/My Drive/Colab Notebooks/FACT/LOST_DINOv2/requirements.txt (line 6)) (11.0.2.54)\n",
            "Requirement already satisfied: nvidia-curand-cu12==10.3.2.106 in /usr/local/lib/python3.11/dist-packages (from torch>=1.3.0->catalyst->-r /content/drive/My Drive/Colab Notebooks/FACT/LOST_DINOv2/requirements.txt (line 6)) (10.3.2.106)\n",
            "Requirement already satisfied: nvidia-cusolver-cu12==11.4.5.107 in /usr/local/lib/python3.11/dist-packages (from torch>=1.3.0->catalyst->-r /content/drive/My Drive/Colab Notebooks/FACT/LOST_DINOv2/requirements.txt (line 6)) (11.4.5.107)\n",
            "Requirement already satisfied: nvidia-cusparse-cu12==12.1.0.106 in /usr/local/lib/python3.11/dist-packages (from torch>=1.3.0->catalyst->-r /content/drive/My Drive/Colab Notebooks/FACT/LOST_DINOv2/requirements.txt (line 6)) (12.1.0.106)\n",
            "Requirement already satisfied: nvidia-nccl-cu12==2.21.5 in /usr/local/lib/python3.11/dist-packages (from torch>=1.3.0->catalyst->-r /content/drive/My Drive/Colab Notebooks/FACT/LOST_DINOv2/requirements.txt (line 6)) (2.21.5)\n",
            "Requirement already satisfied: nvidia-nvtx-cu12==12.1.105 in /usr/local/lib/python3.11/dist-packages (from torch>=1.3.0->catalyst->-r /content/drive/My Drive/Colab Notebooks/FACT/LOST_DINOv2/requirements.txt (line 6)) (12.1.105)\n",
            "Requirement already satisfied: triton==3.1.0 in /usr/local/lib/python3.11/dist-packages (from torch>=1.3.0->catalyst->-r /content/drive/My Drive/Colab Notebooks/FACT/LOST_DINOv2/requirements.txt (line 6)) (3.1.0)\n",
            "Requirement already satisfied: sympy==1.13.1 in /usr/local/lib/python3.11/dist-packages (from torch>=1.3.0->catalyst->-r /content/drive/My Drive/Colab Notebooks/FACT/LOST_DINOv2/requirements.txt (line 6)) (1.13.1)\n",
            "Requirement already satisfied: nvidia-nvjitlink-cu12 in /usr/local/lib/python3.11/dist-packages (from nvidia-cusolver-cu12==11.4.5.107->torch>=1.3.0->catalyst->-r /content/drive/My Drive/Colab Notebooks/FACT/LOST_DINOv2/requirements.txt (line 6)) (12.6.85)\n",
            "Requirement already satisfied: mpmath<1.4,>=1.1.0 in /usr/local/lib/python3.11/dist-packages (from sympy==1.13.1->torch>=1.3.0->catalyst->-r /content/drive/My Drive/Colab Notebooks/FACT/LOST_DINOv2/requirements.txt (line 6)) (1.3.0)\n",
            "Requirement already satisfied: MarkupSafe>=2.0 in /usr/local/lib/python3.11/dist-packages (from jinja2->torch>=1.3.0->catalyst->-r /content/drive/My Drive/Colab Notebooks/FACT/LOST_DINOv2/requirements.txt (line 6)) (3.0.2)\n",
            "Traceback (most recent call last):\n",
            "  File \"/usr/local/lib/python3.11/dist-packages/pip/_internal/cli/base_command.py\", line 179, in exc_logging_wrapper\n",
            "    status = run_func(*args)\n",
            "             ^^^^^^^^^^^^^^^\n",
            "  File \"/usr/local/lib/python3.11/dist-packages/pip/_internal/cli/req_command.py\", line 67, in wrapper\n",
            "    return func(self, options, args)\n",
            "           ^^^^^^^^^^^^^^^^^^^^^^^^^\n",
            "  File \"/usr/local/lib/python3.11/dist-packages/pip/_internal/commands/install.py\", line 447, in run\n",
            "    conflicts = self._determine_conflicts(to_install)\n",
            "                ^^^^^^^^^^^^^^^^^^^^^^^^^^^^^^^^^^^^^\n",
            "  File \"/usr/local/lib/python3.11/dist-packages/pip/_internal/commands/install.py\", line 578, in _determine_conflicts\n",
            "    return check_install_conflicts(to_install)\n",
            "           ^^^^^^^^^^^^^^^^^^^^^^^^^^^^^^^^^^^\n",
            "  File \"/usr/local/lib/python3.11/dist-packages/pip/_internal/operations/check.py\", line 101, in check_install_conflicts\n",
            "    package_set, _ = create_package_set_from_installed()\n",
            "                     ^^^^^^^^^^^^^^^^^^^^^^^^^^^^^^^^^^^\n",
            "  File \"/usr/local/lib/python3.11/dist-packages/pip/_internal/operations/check.py\", line 42, in create_package_set_from_installed\n",
            "    dependencies = list(dist.iter_dependencies())\n",
            "                   ^^^^^^^^^^^^^^^^^^^^^^^^^^^^^^\n",
            "  File \"/usr/local/lib/python3.11/dist-packages/pip/_internal/metadata/importlib/_dists.py\", line 222, in iter_dependencies\n",
            "    req = Requirement(req_string.strip())\n",
            "          ^^^^^^^^^^^^^^^^^^^^^^^^^^^^^^^\n",
            "  File \"/usr/local/lib/python3.11/dist-packages/pip/_vendor/packaging/requirements.py\", line 36, in __init__\n",
            "    parsed = _parse_requirement(requirement_string)\n",
            "             ^^^^^^^^^^^^^^^^^^^^^^^^^^^^^^^^^^^^^^\n",
            "  File \"/usr/local/lib/python3.11/dist-packages/pip/_vendor/packaging/_parser.py\", line 62, in parse_requirement\n",
            "    return _parse_requirement(Tokenizer(source, rules=DEFAULT_RULES))\n",
            "           ^^^^^^^^^^^^^^^^^^^^^^^^^^^^^^^^^^^^^^^^^^^^^^^^^^^^^^^^^^\n",
            "  File \"/usr/local/lib/python3.11/dist-packages/pip/_vendor/packaging/_parser.py\", line 80, in _parse_requirement\n",
            "    url, specifier, marker = _parse_requirement_details(tokenizer)\n",
            "                             ^^^^^^^^^^^^^^^^^^^^^^^^^^^^^^^^^^^^^\n",
            "  File \"/usr/local/lib/python3.11/dist-packages/pip/_vendor/packaging/_parser.py\", line 124, in _parse_requirement_details\n",
            "    marker = _parse_requirement_marker(\n",
            "             ^^^^^^^^^^^^^^^^^^^^^^^^^^\n",
            "  File \"/usr/local/lib/python3.11/dist-packages/pip/_vendor/packaging/_parser.py\", line 151, in _parse_requirement_marker\n",
            "    marker = _parse_marker(tokenizer)\n",
            "             ^^^^^^^^^^^^^^^^^^^^^^^^\n",
            "  File \"/usr/local/lib/python3.11/dist-packages/pip/_vendor/packaging/_parser.py\", line 266, in _parse_marker\n",
            "    expression = [_parse_marker_atom(tokenizer)]\n",
            "                  ^^^^^^^^^^^^^^^^^^^^^^^^^^^^^\n",
            "  File \"/usr/local/lib/python3.11/dist-packages/pip/_vendor/packaging/_parser.py\", line 291, in _parse_marker_atom\n",
            "    marker = _parse_marker_item(tokenizer)\n",
            "             ^^^^^^^^^^^^^^^^^^^^^^^^^^^^^\n",
            "  File \"/usr/local/lib/python3.11/dist-packages/pip/_vendor/packaging/_parser.py\", line 305, in _parse_marker_item\n",
            "    marker_var_right = _parse_marker_var(tokenizer)\n",
            "                       ^^^^^^^^^^^^^^^^^^^^^^^^^^^^\n",
            "  File \"/usr/local/lib/python3.11/dist-packages/pip/_vendor/packaging/_parser.py\", line 316, in _parse_marker_var\n",
            "    elif tokenizer.check(\"QUOTED_STRING\"):\n",
            "         ^^^^^^^^^^^^^^^^^^^^^^^^^^^^^^^^\n",
            "  File \"/usr/local/lib/python3.11/dist-packages/pip/_vendor/packaging/_tokenizer.py\", line 115, in check\n",
            "    def check(self, name: str, *, peek: bool = False) -> bool:\n",
            "\n",
            "KeyboardInterrupt\n",
            "\n",
            "During handling of the above exception, another exception occurred:\n",
            "\n",
            "Traceback (most recent call last):\n",
            "  File \"/usr/local/bin/pip3\", line 8, in <module>\n",
            "    sys.exit(main())\n",
            "             ^^^^^^\n",
            "  File \"/usr/local/lib/python3.11/dist-packages/pip/_internal/cli/main.py\", line 80, in main\n",
            "    return command.main(cmd_args)\n",
            "           ^^^^^^^^^^^^^^^^^^^^^^\n",
            "  File \"/usr/local/lib/python3.11/dist-packages/pip/_internal/cli/base_command.py\", line 100, in main\n",
            "    return self._main(args)\n",
            "           ^^^^^^^^^^^^^^^^\n",
            "  File \"/usr/local/lib/python3.11/dist-packages/pip/_internal/cli/base_command.py\", line 232, in _main\n",
            "    return run(options, args)\n",
            "           ^^^^^^^^^^^^^^^^^^\n",
            "  File \"/usr/local/lib/python3.11/dist-packages/pip/_internal/cli/base_command.py\", line 215, in exc_logging_wrapper\n",
            "    logger.critical(\"Operation cancelled by user\")\n",
            "  File \"/usr/lib/python3.11/logging/__init__.py\", line 1526, in critical\n",
            "    def critical(self, msg, *args, **kwargs):\n",
            "\n",
            "KeyboardInterrupt\n",
            "^C\n"
          ]
        }
      ]
    },
    {
      "cell_type": "code",
      "source": [
        "from custom_datasets import Dataset"
      ],
      "metadata": {
        "id": "ym5vhCCXTLi5"
      },
      "execution_count": 6,
      "outputs": []
    },
    {
      "cell_type": "code",
      "source": [
        "import torchvision\n",
        "\n",
        "dataset = torchvision.datasets.VOCDetection(\n",
        "    root=\"/content/drive/My Drive/Colab Notebooks/FACT/LOST_DINOv2/datasets/VOC2007\",\n",
        "    year=\"2007\",\n",
        "    image_set=\"trainval\",\n",
        "    download=True\n",
        ")\n",
        "print(f\"Number of images in the trainval set: {len(dataset)}\")"
      ],
      "metadata": {
        "colab": {
          "base_uri": "https://localhost:8080/"
        },
        "id": "eQ9VFoQKTLoj",
        "outputId": "97264306-0bdb-4b63-c8dd-a996456f46b2"
      },
      "execution_count": 8,
      "outputs": [
        {
          "output_type": "stream",
          "name": "stdout",
          "text": [
            "Downloading http://host.robots.ox.ac.uk/pascal/VOC/voc2007/VOCtrainval_06-Nov-2007.tar to /content/drive/My Drive/Colab Notebooks/FACT/LOST_DINOv2/datasets/VOC2007/VOCtrainval_06-Nov-2007.tar\n"
          ]
        },
        {
          "output_type": "stream",
          "name": "stderr",
          "text": [
            "100%|██████████| 460M/460M [01:18<00:00, 5.84MB/s]\n"
          ]
        },
        {
          "output_type": "stream",
          "name": "stdout",
          "text": [
            "Extracting /content/drive/My Drive/Colab Notebooks/FACT/LOST_DINOv2/datasets/VOC2007/VOCtrainval_06-Nov-2007.tar to /content/drive/My Drive/Colab Notebooks/FACT/LOST_DINOv2/datasets/VOC2007\n",
            "Number of images in the trainval set: 5011\n"
          ]
        }
      ]
    },
    {
      "cell_type": "code",
      "source": [
        "!ls \"/content/drive/My Drive/Colab Notebooks/FACT/LOST_DINOv2/datasets/VOC2007\""
      ],
      "metadata": {
        "colab": {
          "base_uri": "https://localhost:8080/"
        },
        "id": "aoyQQ-CiTcMW",
        "outputId": "312b2542-16f6-4205-cdfd-6ac8fcdfdaaa"
      },
      "execution_count": 9,
      "outputs": [
        {
          "output_type": "stream",
          "name": "stdout",
          "text": [
            "VOCdevkit  VOCtrainval_06-Nov-2007.tar\n"
          ]
        }
      ]
    },
    {
      "cell_type": "code",
      "source": [
        "# 1) Download the pretrained checkpoints for ViT-L/14 (with and without registers)\n",
        "!wget https://dl.fbaipublicfiles.com/dinov2/dinov2_vitl14/dinov2_vitl14_pretrain.pth\n",
        "!wget https://dl.fbaipublicfiles.com/dinov2/dinov2_vitl14/dinov2_vitl14_reg4_pretrain.pth\n",
        "\n",
        "# 2) Move the downloaded files into dinov2/models/\n",
        "!mv \"dinov2_vitl14_pretrain.pth\" \"/content/drive/My Drive/Colab Notebooks/FACT/LOST_DINOv2/dinov2/models/dinov2_vitl14_pretrain.pth\"\n",
        "!mv \"dinov2_vitl14_reg4_pretrain.pth\" \"/content/drive/My Drive/Colab Notebooks/FACT/LOST_DINOv2/dinov2/models/dinov2_vitl14_reg4_pretrain.pth\"\n",
        "\n",
        "# 3) Check files are in place\n",
        "!ls -l \"/content/drive/My Drive/Colab Notebooks/FACT/LOST_DINOv2/dinov2/models\"\n"
      ],
      "metadata": {
        "colab": {
          "base_uri": "https://localhost:8080/"
        },
        "id": "KkEDxufAYSC7",
        "outputId": "0175dad1-368a-4592-847d-24861144e3b8"
      },
      "execution_count": 14,
      "outputs": [
        {
          "output_type": "stream",
          "name": "stdout",
          "text": [
            "--2025-01-28 14:48:43--  https://dl.fbaipublicfiles.com/dinov2/dinov2_vitl14/dinov2_vitl14_pretrain.pth\n",
            "Resolving dl.fbaipublicfiles.com (dl.fbaipublicfiles.com)... 13.35.7.128, 13.35.7.50, 13.35.7.82, ...\n",
            "Connecting to dl.fbaipublicfiles.com (dl.fbaipublicfiles.com)|13.35.7.128|:443... connected.\n",
            "HTTP request sent, awaiting response... 200 OK\n",
            "Length: 1217586395 (1.1G) [binary/octet-stream]\n",
            "Saving to: ‘dinov2_vitl14_pretrain.pth’\n",
            "\n",
            "dinov2_vitl14_pretr 100%[===================>]   1.13G  44.1MB/s    in 31s     \n",
            "\n",
            "2025-01-28 14:49:14 (37.7 MB/s) - ‘dinov2_vitl14_pretrain.pth’ saved [1217586395/1217586395]\n",
            "\n",
            "--2025-01-28 14:49:14--  https://dl.fbaipublicfiles.com/dinov2/dinov2_vitl14/dinov2_vitl14_reg4_pretrain.pth\n",
            "Resolving dl.fbaipublicfiles.com (dl.fbaipublicfiles.com)... 13.35.7.128, 13.35.7.82, 13.35.7.38, ...\n",
            "Connecting to dl.fbaipublicfiles.com (dl.fbaipublicfiles.com)|13.35.7.128|:443... connected.\n",
            "HTTP request sent, awaiting response... 200 OK\n",
            "Length: 1217607321 (1.1G) [binary/octet-stream]\n",
            "Saving to: ‘dinov2_vitl14_reg4_pretrain.pth’\n",
            "\n",
            "dinov2_vitl14_reg4_ 100%[===================>]   1.13G  48.4MB/s    in 29s     \n",
            "\n",
            "2025-01-28 14:49:43 (40.1 MB/s) - ‘dinov2_vitl14_reg4_pretrain.pth’ saved [1217607321/1217607321]\n",
            "\n",
            "total 2378140\n",
            "-rw------- 1 root root 1217586395 Apr 13  2023 dinov2_vitl14_pretrain.pth\n",
            "-rw------- 1 root root 1217607321 Oct 27  2023 dinov2_vitl14_reg4_pretrain.pth\n",
            "-rw------- 1 root root       1486 Jan 21 18:31 __init__.py\n",
            "drwx------ 2 root root       4096 Jan 28 14:35 __pycache__\n",
            "-rw------- 1 root root      15039 Jan 22 12:07 vision_transformer.py\n"
          ]
        }
      ]
    },
    {
      "cell_type": "code",
      "source": [
        "# Run LOST on DINOv2 Without Registers\n",
        "!python main_lost.py \\\n",
        "    --arch dinov2_vitl14 \\\n",
        "    --dataset VOC07 \\\n",
        "    --set trainval \\\n",
        "    --which_features k \\\n",
        "    --output_dir \"/content/drive/My Drive/Colab Notebooks/FACT/LOST_DINOv2/outputs_dino_without_registers\""
      ],
      "metadata": {
        "colab": {
          "base_uri": "https://localhost:8080/"
        },
        "id": "6fILirRgTcOs",
        "outputId": "9fa615ae-c88e-44d1-9c0c-8aefc1b6e23f"
      },
      "execution_count": 15,
      "outputs": [
        {
          "output_type": "stream",
          "name": "stdout",
          "text": [
            "/content/drive/My Drive/Colab Notebooks/FACT/LOST_DINOv2/dinov2/layers/swiglu_ffn.py:51: UserWarning: xFormers is not available (SwiGLU)\n",
            "  warnings.warn(\"xFormers is not available (SwiGLU)\")\n",
            "/content/drive/My Drive/Colab Notebooks/FACT/LOST_DINOv2/dinov2/layers/attention.py:33: UserWarning: xFormers is not available (Attention)\n",
            "  warnings.warn(\"xFormers is not available (Attention)\")\n",
            "/content/drive/My Drive/Colab Notebooks/FACT/LOST_DINOv2/dinov2/layers/block.py:40: UserWarning: xFormers is not available (Block)\n",
            "  warnings.warn(\"xFormers is not available (Block)\")\n",
            "==> Building DINOv2 ViT-L/14 (no registers)\n",
            "Loading checkpoint from dinov2/models/dinov2_vitl14_pretrain.pth ...\n",
            "/content/drive/My Drive/Colab Notebooks/FACT/LOST_DINOv2/networks.py:63: FutureWarning: You are using `torch.load` with `weights_only=False` (the current default value), which uses the default pickle module implicitly. It is possible to construct malicious pickle data which will execute arbitrary code during unpickling (See https://github.com/pytorch/pytorch/blob/main/SECURITY.md#untrusted-models for more details). In a future release, the default value for `weights_only` will be flipped to `True`. This limits the functions that could be executed during unpickling. Arbitrary objects will no longer be allowed to be loaded via this mode unless they are explicitly allowlisted by the user via `torch.serialization.add_safe_globals`. We recommend you start setting `weights_only=True` for any use case where you don't have full control of the loaded file. Please open an issue on GitHub for any issues related to this experimental feature.\n",
            "  checkpoint = torch.load(ckpt_path, map_location=\"cpu\")\n",
            "\n",
            "[DEBUG] Checking if 'register_tokens' appears in checkpoint keys:\n",
            "load_state_dict report: <All keys matched successfully>\n",
            "Model loaded with architecture: dinov2_vitl14\n",
            "Running LOST on arch=dinov2_vitl14 patch=14 -> LOST-dinov2_vitl14-p14-k\n",
            "  0% 2/5011 [00:38<27:02:45, 19.44s/it]\n",
            "Traceback (most recent call last):\n",
            "  File \"/content/drive/My Drive/Colab Notebooks/FACT/LOST_DINOv2/main_lost.py\", line 282, in <module>\n",
            "    main()\n",
            "  File \"/content/drive/My Drive/Colab Notebooks/FACT/LOST_DINOv2/main_lost.py\", line 167, in main\n",
            "    attentions = model.get_last_selfattention(img[None, :, :, :])\n",
            "                 ^^^^^^^^^^^^^^^^^^^^^^^^^^^^^^^^^^^^^^^^^^^^^^^^\n",
            "  File \"/content/drive/My Drive/Colab Notebooks/FACT/LOST_DINOv2/dinov2/models/vision_transformer.py\", line 331, in get_last_selfattention\n",
            "    x = blk(x)\n",
            "        ^^^^^^\n",
            "  File \"/usr/local/lib/python3.11/dist-packages/torch/nn/modules/module.py\", line 1736, in _wrapped_call_impl\n",
            "    return self._call_impl(*args, **kwargs)\n",
            "           ^^^^^^^^^^^^^^^^^^^^^^^^^^^^^^^^\n",
            "  File \"/usr/local/lib/python3.11/dist-packages/torch/nn/modules/module.py\", line 1747, in _call_impl\n",
            "    return forward_call(*args, **kwargs)\n",
            "           ^^^^^^^^^^^^^^^^^^^^^^^^^^^^^\n",
            "  File \"/content/drive/My Drive/Colab Notebooks/FACT/LOST_DINOv2/dinov2/layers/block.py\", line 261, in forward\n",
            "    return super().forward(x_or_x_list, return_attention)\n",
            "           ^^^^^^^^^^^^^^^^^^^^^^^^^^^^^^^^^^^^^^^^^^^^^^\n",
            "  File \"/content/drive/My Drive/Colab Notebooks/FACT/LOST_DINOv2/dinov2/layers/block.py\", line 118, in forward\n",
            "    x = x + ffn_residual_func(x)\n",
            "            ^^^^^^^^^^^^^^^^^^^^\n",
            "  File \"/content/drive/My Drive/Colab Notebooks/FACT/LOST_DINOv2/dinov2/layers/block.py\", line 94, in ffn_residual_func\n",
            "    return self.ls2(self.mlp(self.norm2(x)))\n",
            "                    ^^^^^^^^^^^^^^^^^^^^^^^\n",
            "  File \"/usr/local/lib/python3.11/dist-packages/torch/nn/modules/module.py\", line 1736, in _wrapped_call_impl\n",
            "    return self._call_impl(*args, **kwargs)\n",
            "           ^^^^^^^^^^^^^^^^^^^^^^^^^^^^^^^^\n",
            "  File \"/usr/local/lib/python3.11/dist-packages/torch/nn/modules/module.py\", line 1747, in _call_impl\n",
            "    return forward_call(*args, **kwargs)\n",
            "           ^^^^^^^^^^^^^^^^^^^^^^^^^^^^^\n",
            "  File \"/content/drive/My Drive/Colab Notebooks/FACT/LOST_DINOv2/dinov2/layers/mlp.py\", line 35, in forward\n",
            "    x = self.fc1(x)\n",
            "        ^^^^^^^^^^^\n",
            "  File \"/usr/local/lib/python3.11/dist-packages/torch/nn/modules/module.py\", line 1736, in _wrapped_call_impl\n",
            "    return self._call_impl(*args, **kwargs)\n",
            "           ^^^^^^^^^^^^^^^^^^^^^^^^^^^^^^^^\n",
            "  File \"/usr/local/lib/python3.11/dist-packages/torch/nn/modules/module.py\", line 1747, in _call_impl\n",
            "    return forward_call(*args, **kwargs)\n",
            "           ^^^^^^^^^^^^^^^^^^^^^^^^^^^^^\n",
            "  File \"/usr/local/lib/python3.11/dist-packages/torch/nn/modules/linear.py\", line 125, in forward\n",
            "    return F.linear(input, self.weight, self.bias)\n",
            "           ^^^^^^^^^^^^^^^^^^^^^^^^^^^^^^^^^^^^^^^\n",
            "KeyboardInterrupt\n"
          ]
        }
      ]
    },
    {
      "cell_type": "code",
      "source": [
        "# Run LOST on DINOv2 With Registers\n",
        "!python main_lost.py \\\n",
        "    --arch dinov2_vitl14_reg \\\n",
        "    --dataset VOC07 \\\n",
        "    --set trainval \\\n",
        "    --which_features k \\\n",
        "    --output_dir \"/content/drive/My Drive/Colab Notebooks/FACT/LOST_DINOv2/outputs_dino_with_registers\""
      ],
      "metadata": {
        "colab": {
          "base_uri": "https://localhost:8080/"
        },
        "id": "ugXpejUoTcRD",
        "outputId": "777247b4-20e1-4942-d2a2-0536bd8ba471"
      },
      "execution_count": 17,
      "outputs": [
        {
          "output_type": "stream",
          "name": "stdout",
          "text": [
            "/content/drive/MyDrive/Colab Notebooks/FACT/LOST_DINOv2/dinov2/layers/swiglu_ffn.py:51: UserWarning: xFormers is not available (SwiGLU)\n",
            "  warnings.warn(\"xFormers is not available (SwiGLU)\")\n",
            "/content/drive/MyDrive/Colab Notebooks/FACT/LOST_DINOv2/dinov2/layers/attention.py:33: UserWarning: xFormers is not available (Attention)\n",
            "  warnings.warn(\"xFormers is not available (Attention)\")\n",
            "/content/drive/MyDrive/Colab Notebooks/FACT/LOST_DINOv2/dinov2/layers/block.py:40: UserWarning: xFormers is not available (Block)\n",
            "  warnings.warn(\"xFormers is not available (Block)\")\n",
            "==> Building DINOv2 ViT-L/14 (with registers)\n",
            "Loading checkpoint from dinov2/models/dinov2_vitl14_reg4_pretrain.pth ...\n",
            "/content/drive/MyDrive/Colab Notebooks/FACT/LOST_DINOv2/networks.py:63: FutureWarning: You are using `torch.load` with `weights_only=False` (the current default value), which uses the default pickle module implicitly. It is possible to construct malicious pickle data which will execute arbitrary code during unpickling (See https://github.com/pytorch/pytorch/blob/main/SECURITY.md#untrusted-models for more details). In a future release, the default value for `weights_only` will be flipped to `True`. This limits the functions that could be executed during unpickling. Arbitrary objects will no longer be allowed to be loaded via this mode unless they are explicitly allowlisted by the user via `torch.serialization.add_safe_globals`. We recommend you start setting `weights_only=True` for any use case where you don't have full control of the loaded file. Please open an issue on GitHub for any issues related to this experimental feature.\n",
            "  checkpoint = torch.load(ckpt_path, map_location=\"cpu\")\n",
            "\n",
            "[DEBUG] Checking if 'register_tokens' appears in checkpoint keys:\n",
            "  -> Found register_tokens, shape=torch.Size([1, 4, 1024])\n",
            "load_state_dict report: <All keys matched successfully>\n",
            "Model loaded with architecture: dinov2_vitl14_reg\n",
            "Number of register tokens: 4\n",
            "Initial register token values: tensor([[-0.0001, -0.0002, -0.0009, -0.0009]])\n",
            "Running LOST on arch=dinov2_vitl14_reg patch=14 -> LOST-dinov2_vitl14_reg-p14-k\n",
            "  0% 0/5011 [00:07<?, ?it/s]\n",
            "Traceback (most recent call last):\n",
            "  File \"/content/drive/MyDrive/Colab Notebooks/FACT/LOST_DINOv2/main_lost.py\", line 282, in <module>\n",
            "    main()\n",
            "  File \"/content/drive/MyDrive/Colab Notebooks/FACT/LOST_DINOv2/main_lost.py\", line 167, in main\n",
            "    attentions = model.get_last_selfattention(img[None, :, :, :])\n",
            "                 ^^^^^^^^^^^^^^^^^^^^^^^^^^^^^^^^^^^^^^^^^^^^^^^^\n",
            "  File \"/content/drive/MyDrive/Colab Notebooks/FACT/LOST_DINOv2/dinov2/models/vision_transformer.py\", line 331, in get_last_selfattention\n",
            "    x = blk(x)\n",
            "        ^^^^^^\n",
            "  File \"/usr/local/lib/python3.11/dist-packages/torch/nn/modules/module.py\", line 1736, in _wrapped_call_impl\n",
            "    return self._call_impl(*args, **kwargs)\n",
            "           ^^^^^^^^^^^^^^^^^^^^^^^^^^^^^^^^\n",
            "  File \"/usr/local/lib/python3.11/dist-packages/torch/nn/modules/module.py\", line 1747, in _call_impl\n",
            "    return forward_call(*args, **kwargs)\n",
            "           ^^^^^^^^^^^^^^^^^^^^^^^^^^^^^\n",
            "  File \"/content/drive/MyDrive/Colab Notebooks/FACT/LOST_DINOv2/dinov2/layers/block.py\", line 261, in forward\n",
            "    return super().forward(x_or_x_list, return_attention)\n",
            "           ^^^^^^^^^^^^^^^^^^^^^^^^^^^^^^^^^^^^^^^^^^^^^^\n",
            "  File \"/content/drive/MyDrive/Colab Notebooks/FACT/LOST_DINOv2/dinov2/layers/block.py\", line 117, in forward\n",
            "    x = x + attn_residual_func(x)\n",
            "            ^^^^^^^^^^^^^^^^^^^^^\n",
            "  File \"/content/drive/MyDrive/Colab Notebooks/FACT/LOST_DINOv2/dinov2/layers/block.py\", line 91, in attn_residual_func\n",
            "    return self.ls1(self.attn(self.norm1(x)))\n",
            "                    ^^^^^^^^^^^^^^^^^^^^^^^^\n",
            "  File \"/usr/local/lib/python3.11/dist-packages/torch/nn/modules/module.py\", line 1736, in _wrapped_call_impl\n",
            "    return self._call_impl(*args, **kwargs)\n",
            "           ^^^^^^^^^^^^^^^^^^^^^^^^^^^^^^^^\n",
            "  File \"/usr/local/lib/python3.11/dist-packages/torch/nn/modules/module.py\", line 1747, in _call_impl\n",
            "    return forward_call(*args, **kwargs)\n",
            "           ^^^^^^^^^^^^^^^^^^^^^^^^^^^^^\n",
            "  File \"/content/drive/MyDrive/Colab Notebooks/FACT/LOST_DINOv2/dinov2/layers/attention.py\", line 86, in forward\n",
            "    return super().forward(x, return_attention=return_attention)\n",
            "           ^^^^^^^^^^^^^^^^^^^^^^^^^^^^^^^^^^^^^^^^^^^^^^^^^^^^^\n",
            "  File \"/content/drive/MyDrive/Colab Notebooks/FACT/LOST_DINOv2/dinov2/layers/attention.py\", line 68, in forward\n",
            "    x = self.proj(x)\n",
            "        ^^^^^^^^^^^^\n",
            "  File \"/usr/local/lib/python3.11/dist-packages/torch/nn/modules/module.py\", line 1736, in _wrapped_call_impl\n",
            "    return self._call_impl(*args, **kwargs)\n",
            "           ^^^^^^^^^^^^^^^^^^^^^^^^^^^^^^^^\n",
            "  File \"/usr/local/lib/python3.11/dist-packages/torch/nn/modules/module.py\", line 1747, in _call_impl\n",
            "    return forward_call(*args, **kwargs)\n",
            "           ^^^^^^^^^^^^^^^^^^^^^^^^^^^^^\n",
            "  File \"/usr/local/lib/python3.11/dist-packages/torch/nn/modules/linear.py\", line 125, in forward\n",
            "    return F.linear(input, self.weight, self.bias)\n",
            "           ^^^^^^^^^^^^^^^^^^^^^^^^^^^^^^^^^^^^^^^\n",
            "KeyboardInterrupt\n"
          ]
        }
      ]
    },
    {
      "cell_type": "code",
      "source": [],
      "metadata": {
        "id": "smCUYthGZON3"
      },
      "execution_count": null,
      "outputs": []
    }
  ]
}