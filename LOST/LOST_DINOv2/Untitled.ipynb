{
 "cells": [
  {
   "cell_type": "code",
   "execution_count": null,
   "id": "aabfcbb8-84ea-4446-877b-8c6bfb3763a7",
   "metadata": {},
   "outputs": [],
   "source": []
  }
 ],
 "metadata": {
  "kernelspec": {
   "display_name": "",
   "name": ""
  },
  "language_info": {
   "name": ""
  }
 },
 "nbformat": 4,
 "nbformat_minor": 5
}
